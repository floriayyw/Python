{
 "cells": [
  {
   "cell_type": "code",
   "execution_count": 1,
   "metadata": {},
   "outputs": [],
   "source": [
    "import pandas as pd\n",
    "import numpy as np"
   ]
  },
  {
   "cell_type": "code",
   "execution_count": 2,
   "metadata": {},
   "outputs": [],
   "source": [
    "train=pd.read_csv(\"train.csv\")\n",
    "score=pd.read_csv(\"score.csv\")"
   ]
  },
  {
   "cell_type": "code",
   "execution_count": 3,
   "metadata": {},
   "outputs": [],
   "source": [
    "train.drop('exact_item_bought',axis=1,inplace=True)\n",
    "score.drop('exact_item_bought',axis=1,inplace=True)"
   ]
  },
  {
   "cell_type": "code",
   "execution_count": 4,
   "metadata": {
    "scrolled": true
   },
   "outputs": [
    {
     "data": {
      "text/html": [
       "<div>\n",
       "<style scoped>\n",
       "    .dataframe tbody tr th:only-of-type {\n",
       "        vertical-align: middle;\n",
       "    }\n",
       "\n",
       "    .dataframe tbody tr th {\n",
       "        vertical-align: top;\n",
       "    }\n",
       "\n",
       "    .dataframe thead th {\n",
       "        text-align: right;\n",
       "    }\n",
       "</style>\n",
       "<table border=\"1\" class=\"dataframe\">\n",
       "  <thead>\n",
       "    <tr style=\"text-align: right;\">\n",
       "      <th></th>\n",
       "      <th>id</th>\n",
       "      <th>chain</th>\n",
       "      <th>offer</th>\n",
       "      <th>market</th>\n",
       "      <th>repeater</th>\n",
       "      <th>offerdate</th>\n",
       "      <th>category</th>\n",
       "      <th>quantity</th>\n",
       "      <th>company</th>\n",
       "      <th>offervalue</th>\n",
       "      <th>brand</th>\n",
       "      <th>avg_purchaseamount</th>\n",
       "      <th>avg_purchasequantity</th>\n",
       "      <th>match</th>\n",
       "    </tr>\n",
       "  </thead>\n",
       "  <tbody>\n",
       "    <tr>\n",
       "      <th>0</th>\n",
       "      <td>1048253332</td>\n",
       "      <td>214</td>\n",
       "      <td>1198271</td>\n",
       "      <td>8</td>\n",
       "      <td>f</td>\n",
       "      <td>2013/3/27</td>\n",
       "      <td>5558</td>\n",
       "      <td>1</td>\n",
       "      <td>107120272</td>\n",
       "      <td>1.50</td>\n",
       "      <td>5072</td>\n",
       "      <td>0.000000</td>\n",
       "      <td>0.000000</td>\n",
       "      <td>0</td>\n",
       "    </tr>\n",
       "    <tr>\n",
       "      <th>1</th>\n",
       "      <td>106372514</td>\n",
       "      <td>17</td>\n",
       "      <td>1197502</td>\n",
       "      <td>4</td>\n",
       "      <td>f</td>\n",
       "      <td>2013/3/28</td>\n",
       "      <td>3203</td>\n",
       "      <td>1</td>\n",
       "      <td>106414464</td>\n",
       "      <td>0.75</td>\n",
       "      <td>13474</td>\n",
       "      <td>0.000000</td>\n",
       "      <td>0.000000</td>\n",
       "      <td>0</td>\n",
       "    </tr>\n",
       "    <tr>\n",
       "      <th>2</th>\n",
       "      <td>1064972209</td>\n",
       "      <td>214</td>\n",
       "      <td>1208251</td>\n",
       "      <td>8</td>\n",
       "      <td>f</td>\n",
       "      <td>2013/4/23</td>\n",
       "      <td>2202</td>\n",
       "      <td>1</td>\n",
       "      <td>104460040</td>\n",
       "      <td>2.00</td>\n",
       "      <td>3718</td>\n",
       "      <td>0.000000</td>\n",
       "      <td>0.000000</td>\n",
       "      <td>0</td>\n",
       "    </tr>\n",
       "    <tr>\n",
       "      <th>3</th>\n",
       "      <td>1070619072</td>\n",
       "      <td>46</td>\n",
       "      <td>1208329</td>\n",
       "      <td>15</td>\n",
       "      <td>t</td>\n",
       "      <td>2013/4/23</td>\n",
       "      <td>2119</td>\n",
       "      <td>1</td>\n",
       "      <td>108079383</td>\n",
       "      <td>1.00</td>\n",
       "      <td>6926</td>\n",
       "      <td>4.517586</td>\n",
       "      <td>1.551724</td>\n",
       "      <td>0</td>\n",
       "    </tr>\n",
       "    <tr>\n",
       "      <th>4</th>\n",
       "      <td>1080684610</td>\n",
       "      <td>214</td>\n",
       "      <td>1197502</td>\n",
       "      <td>8</td>\n",
       "      <td>t</td>\n",
       "      <td>2013/4/19</td>\n",
       "      <td>3203</td>\n",
       "      <td>1</td>\n",
       "      <td>106414464</td>\n",
       "      <td>0.75</td>\n",
       "      <td>13474</td>\n",
       "      <td>2.690000</td>\n",
       "      <td>1.000000</td>\n",
       "      <td>1</td>\n",
       "    </tr>\n",
       "  </tbody>\n",
       "</table>\n",
       "</div>"
      ],
      "text/plain": [
       "           id  chain    offer  market repeater  offerdate  category  quantity  \\\n",
       "0  1048253332    214  1198271       8        f  2013/3/27      5558         1   \n",
       "1   106372514     17  1197502       4        f  2013/3/28      3203         1   \n",
       "2  1064972209    214  1208251       8        f  2013/4/23      2202         1   \n",
       "3  1070619072     46  1208329      15        t  2013/4/23      2119         1   \n",
       "4  1080684610    214  1197502       8        t  2013/4/19      3203         1   \n",
       "\n",
       "     company  offervalue  brand  avg_purchaseamount  avg_purchasequantity  \\\n",
       "0  107120272        1.50   5072            0.000000              0.000000   \n",
       "1  106414464        0.75  13474            0.000000              0.000000   \n",
       "2  104460040        2.00   3718            0.000000              0.000000   \n",
       "3  108079383        1.00   6926            4.517586              1.551724   \n",
       "4  106414464        0.75  13474            2.690000              1.000000   \n",
       "\n",
       "   match  \n",
       "0      0  \n",
       "1      0  \n",
       "2      0  \n",
       "3      0  \n",
       "4      1  "
      ]
     },
     "execution_count": 4,
     "metadata": {},
     "output_type": "execute_result"
    }
   ],
   "source": [
    "train.head()"
   ]
  },
  {
   "cell_type": "code",
   "execution_count": 5,
   "metadata": {},
   "outputs": [],
   "source": [
    "from sklearn.preprocessing import LabelEncoder, OneHotEncoder\n",
    "labelencoder_X = LabelEncoder()\n",
    "train[\"repeater\"] = labelencoder_X.fit_transform(train['repeater'])"
   ]
  },
  {
   "cell_type": "code",
   "execution_count": 6,
   "metadata": {
    "scrolled": true
   },
   "outputs": [],
   "source": [
    "train.iloc[[~train.category.isin(score.category)],[6]]='unknown'\n",
    "score.iloc[[~score.category.isin(train.category)],[5]]='unknown'"
   ]
  },
  {
   "cell_type": "code",
   "execution_count": 7,
   "metadata": {},
   "outputs": [],
   "source": [
    "train.iloc[[~train.brand.isin(score.brand)],[10]]='unknown'\n",
    "score.iloc[[~score.brand.isin(train.brand)],[9]]='unknown'"
   ]
  },
  {
   "cell_type": "code",
   "execution_count": 8,
   "metadata": {},
   "outputs": [],
   "source": [
    "train.iloc[[~train.company.isin(score.company)],[8]]='unknown'\n",
    "score.iloc[[~score.company.isin(train.company)],[7]]='unknown'"
   ]
  },
  {
   "cell_type": "code",
   "execution_count": 9,
   "metadata": {},
   "outputs": [],
   "source": [
    "train.iloc[[~train.offer.isin(score.offer)],[2]]='unknown'\n",
    "score.iloc[[~score.offer.isin(train.offer)],[2]]='unknown'"
   ]
  },
  {
   "cell_type": "code",
   "execution_count": 10,
   "metadata": {},
   "outputs": [],
   "source": [
    "train.to_csv(r'C:\\Users\\flori\\Documents\\Python Scripts\\datamining\\out1.csv',index=False)\n",
    "score.to_csv(r'C:\\Users\\flori\\Documents\\Python Scripts\\datamining\\out2.csv',index=False)"
   ]
  },
  {
   "cell_type": "code",
   "execution_count": 4,
   "metadata": {},
   "outputs": [],
   "source": [
    "import h2o\n",
    "from h2o.estimators.glm import H2OGeneralizedLinearEstimator\n",
    "\n",
    "import operator"
   ]
  },
  {
   "cell_type": "code",
   "execution_count": 5,
   "metadata": {
    "scrolled": true
   },
   "outputs": [
    {
     "name": "stdout",
     "output_type": "stream",
     "text": [
      "Checking whether there is an H2O instance running at http://localhost:54321..... not found.\n",
      "Attempting to start a local H2O server...\n",
      "; Java HotSpot(TM) 64-Bit Server VM 18.9 (build 11.0.2+9-LTS, mixed mode)\n",
      "  Starting server from C:\\Users\\flori\\Anaconda3\\lib\\site-packages\\h2o\\backend\\bin\\h2o.jar\n",
      "  Ice root: C:\\Users\\flori\\AppData\\Local\\Temp\\tmphteradps\n",
      "  JVM stdout: C:\\Users\\flori\\AppData\\Local\\Temp\\tmphteradps\\h2o_flori_started_from_python.out\n",
      "  JVM stderr: C:\\Users\\flori\\AppData\\Local\\Temp\\tmphteradps\\h2o_flori_started_from_python.err\n",
      "  Server is running at http://127.0.0.1:54321\n",
      "Connecting to H2O server at http://127.0.0.1:54321... successful.\n"
     ]
    },
    {
     "data": {
      "text/html": [
       "<div style=\"overflow:auto\"><table style=\"width:50%\"><tr><td>H2O cluster uptime:</td>\n",
       "<td>02 secs</td></tr>\n",
       "<tr><td>H2O cluster timezone:</td>\n",
       "<td>America/New_York</td></tr>\n",
       "<tr><td>H2O data parsing timezone:</td>\n",
       "<td>UTC</td></tr>\n",
       "<tr><td>H2O cluster version:</td>\n",
       "<td>3.22.1.3</td></tr>\n",
       "<tr><td>H2O cluster version age:</td>\n",
       "<td>1 month and 10 days </td></tr>\n",
       "<tr><td>H2O cluster name:</td>\n",
       "<td>H2O_from_python_flori_u7riuq</td></tr>\n",
       "<tr><td>H2O cluster total nodes:</td>\n",
       "<td>1</td></tr>\n",
       "<tr><td>H2O cluster free memory:</td>\n",
       "<td>1.965 Gb</td></tr>\n",
       "<tr><td>H2O cluster total cores:</td>\n",
       "<td>0</td></tr>\n",
       "<tr><td>H2O cluster allowed cores:</td>\n",
       "<td>0</td></tr>\n",
       "<tr><td>H2O cluster status:</td>\n",
       "<td>accepting new members, healthy</td></tr>\n",
       "<tr><td>H2O connection url:</td>\n",
       "<td>http://127.0.0.1:54321</td></tr>\n",
       "<tr><td>H2O connection proxy:</td>\n",
       "<td>None</td></tr>\n",
       "<tr><td>H2O internal security:</td>\n",
       "<td>False</td></tr>\n",
       "<tr><td>H2O API Extensions:</td>\n",
       "<td>Algos, AutoML, Core V3, Core V4</td></tr>\n",
       "<tr><td>Python version:</td>\n",
       "<td>3.6.5 final</td></tr></table></div>"
      ],
      "text/plain": [
       "--------------------------  -------------------------------\n",
       "H2O cluster uptime:         02 secs\n",
       "H2O cluster timezone:       America/New_York\n",
       "H2O data parsing timezone:  UTC\n",
       "H2O cluster version:        3.22.1.3\n",
       "H2O cluster version age:    1 month and 10 days\n",
       "H2O cluster name:           H2O_from_python_flori_u7riuq\n",
       "H2O cluster total nodes:    1\n",
       "H2O cluster free memory:    1.965 Gb\n",
       "H2O cluster total cores:    0\n",
       "H2O cluster allowed cores:  0\n",
       "H2O cluster status:         accepting new members, healthy\n",
       "H2O connection url:         http://127.0.0.1:54321\n",
       "H2O connection proxy:\n",
       "H2O internal security:      False\n",
       "H2O API Extensions:         Algos, AutoML, Core V3, Core V4\n",
       "Python version:             3.6.5 final\n",
       "--------------------------  -------------------------------"
      ]
     },
     "metadata": {},
     "output_type": "display_data"
    }
   ],
   "source": [
    "h2o.init()"
   ]
  },
  {
   "cell_type": "code",
   "execution_count": 6,
   "metadata": {},
   "outputs": [],
   "source": [
    "path = 'C:/Users/flori/Documents/Python Scripts/datamining/out1.csv'\n",
    "path1= 'C:/Users/flori/Documents/Python Scripts/datamining/out2.csv'"
   ]
  },
  {
   "cell_type": "code",
   "execution_count": 8,
   "metadata": {},
   "outputs": [],
   "source": [
    "col_types = {'repeater': 'enum','exact_item_bought': 'enum'}\n",
    "col_types1 = {'exact_item_bought': 'enum'}"
   ]
  },
  {
   "cell_type": "code",
   "execution_count": 9,
   "metadata": {
    "scrolled": true
   },
   "outputs": [
    {
     "name": "stdout",
     "output_type": "stream",
     "text": [
      "Parse progress: |█████████████████████████████████████████████████████████| 100%\n"
     ]
    }
   ],
   "source": [
    "trainh = h2o.import_file(path=path, col_types=col_types)"
   ]
  },
  {
   "cell_type": "code",
   "execution_count": 10,
   "metadata": {
    "scrolled": false
   },
   "outputs": [
    {
     "name": "stdout",
     "output_type": "stream",
     "text": [
      "Parse progress: |█████████████████████████████████████████████████████████| 100%\n"
     ]
    }
   ],
   "source": [
    "scoreh = h2o.import_file(path=path1, col_types=col_types1)"
   ]
  },
  {
   "cell_type": "code",
   "execution_count": 15,
   "metadata": {},
   "outputs": [],
   "source": [
    "trainh['offerdate'] = trainh['offerdate'].as_date(\"%Y/%m/%d\")"
   ]
  },
  {
   "cell_type": "code",
   "execution_count": 43,
   "metadata": {},
   "outputs": [],
   "source": [
    "scoreh['offerdate'] = scoreh['offerdate'].as_date(\"%Y/%m/%d\")"
   ]
  },
  {
   "cell_type": "code",
   "execution_count": 44,
   "metadata": {},
   "outputs": [],
   "source": [
    "trainh['month']=trainh['offerdate'].month() \n",
    "scoreh['month']=scoreh['offerdate'].month() "
   ]
  },
  {
   "cell_type": "code",
   "execution_count": 46,
   "metadata": {},
   "outputs": [],
   "source": [
    "trainh['week']=trainh['offerdate'].week()\n",
    "scoreh['week']=scoreh['offerdate'].week()"
   ]
  },
  {
   "cell_type": "code",
   "execution_count": 47,
   "metadata": {},
   "outputs": [],
   "source": [
    "trainh['dayofweek']=trainh['offerdate'].dayOfWeek()\n",
    "scoreh['dayofweek']=scoreh['offerdate'].dayOfWeek()"
   ]
  },
  {
   "cell_type": "code",
   "execution_count": 48,
   "metadata": {},
   "outputs": [],
   "source": [
    "trainh['day']=trainh['offerdate'].day()\n",
    "scoreh['day']=scoreh['offerdate'].day()"
   ]
  },
  {
   "cell_type": "code",
   "execution_count": 49,
   "metadata": {},
   "outputs": [],
   "source": [
    "trainh['month']=trainh['month'].asfactor()\n",
    "trainh['week']=trainh['week'].asfactor()"
   ]
  },
  {
   "cell_type": "code",
   "execution_count": 50,
   "metadata": {},
   "outputs": [],
   "source": [
    "scoreh['month']=scoreh['month'].asfactor()\n",
    "scoreh['week']=scoreh['week'].asfactor()"
   ]
  },
  {
   "cell_type": "code",
   "execution_count": 51,
   "metadata": {
    "scrolled": true
   },
   "outputs": [],
   "source": [
    "training,validation,test = trainh.split_frame([0.4, 0.3],seed=12345)"
   ]
  },
  {
   "cell_type": "code",
   "execution_count": 52,
   "metadata": {},
   "outputs": [],
   "source": [
    "y = 'repeater'\n",
    "X = [name for name in training.columns if name not in ['id', 'chain','market','offerdate','quantity', y]]"
   ]
  },
  {
   "cell_type": "code",
   "execution_count": 54,
   "metadata": {},
   "outputs": [
    {
     "name": "stdout",
     "output_type": "stream",
     "text": [
      "repeater\n",
      "['offer', 'category', 'company', 'offervalue', 'brand', 'avg_purchaseamount', 'avg_purchasequantity', 'exact_item_bought', 'month', 'week', 'dayofweek', 'day']\n"
     ]
    }
   ],
   "source": [
    "print(y)\n",
    "print(X)"
   ]
  },
  {
   "cell_type": "code",
   "execution_count": 55,
   "metadata": {},
   "outputs": [],
   "source": [
    "training[y] = training[y].asfactor()\n",
    "validation[y] = validation[y].asfactor()\n",
    "test[y] = test[y].asfactor()"
   ]
  },
  {
   "cell_type": "code",
   "execution_count": 56,
   "metadata": {},
   "outputs": [
    {
     "name": "stdout",
     "output_type": "stream",
     "text": [
      "glm Model Build progress: |███████████████████████████████████████████████| 100%\n"
     ]
    }
   ],
   "source": [
    "# initialize\n",
    "repeater_glm = H2OGeneralizedLinearEstimator(family='binomial',\n",
    "                                         model_id='repeater_glm',\n",
    "                                         solver='IRLSM',\n",
    "                                         nfolds=3,\n",
    "                                         standardize=True,\n",
    "                                         lambda_search=True,\n",
    "                                         seed=12345)\n",
    "\n",
    "# train \n",
    "repeater_glm.train(X, y, training_frame=training,validation_frame=validation)\n",
    "\n",
    "# view detailed results at http://host:ip/flow/index.html"
   ]
  },
  {
   "cell_type": "code",
   "execution_count": 57,
   "metadata": {},
   "outputs": [
    {
     "name": "stdout",
     "output_type": "stream",
     "text": [
      "0.6775771253481386\n",
      "0.6727944090660435\n"
     ]
    }
   ],
   "source": [
    "print(repeater_glm.auc(train=True))\n",
    "print(repeater_glm.model_performance(test_data=validation).auc())"
   ]
  },
  {
   "cell_type": "code",
   "execution_count": 58,
   "metadata": {},
   "outputs": [],
   "source": [
    "newdf = scoreh[scoreh[\"id\"] == 13584134, :]"
   ]
  },
  {
   "cell_type": "code",
   "execution_count": 59,
   "metadata": {
    "scrolled": true
   },
   "outputs": [
    {
     "name": "stdout",
     "output_type": "stream",
     "text": [
      "glm prediction progress: |████████████████████████████████████████████████| 100%\n"
     ]
    },
    {
     "name": "stderr",
     "output_type": "stream",
     "text": [
      "C:\\Users\\flori\\Anaconda3\\lib\\site-packages\\h2o\\job.py:69: UserWarning: Test/Validation dataset column 'week' has levels not trained on: [19, 20, 21, 22, 23, 24, 25, 26, 27, 28, 29, 30, 31]\n",
      "  warnings.warn(w)\n",
      "C:\\Users\\flori\\Anaconda3\\lib\\site-packages\\h2o\\job.py:69: UserWarning: Test/Validation dataset column 'month' has levels not trained on: [5, 6, 7]\n",
      "  warnings.warn(w)\n"
     ]
    },
    {
     "data": {
      "text/html": [
       "<table>\n",
       "<thead>\n",
       "<tr><th style=\"text-align: right;\">  predict</th><th style=\"text-align: right;\">      p0</th><th style=\"text-align: right;\">      p1</th></tr>\n",
       "</thead>\n",
       "<tbody>\n",
       "<tr><td style=\"text-align: right;\">        0</td><td style=\"text-align: right;\">0.895147</td><td style=\"text-align: right;\">0.104853</td></tr>\n",
       "</tbody>\n",
       "</table>"
      ]
     },
     "metadata": {},
     "output_type": "display_data"
    },
    {
     "data": {
      "text/plain": []
     },
     "execution_count": 59,
     "metadata": {},
     "output_type": "execute_result"
    }
   ],
   "source": [
    "repeater_glm.predict(newdf) "
   ]
  },
  {
   "cell_type": "code",
   "execution_count": 81,
   "metadata": {},
   "outputs": [
    {
     "name": "stdout",
     "output_type": "stream",
     "text": [
      "H2O session _sid_b094 closed.\n"
     ]
    }
   ],
   "source": [
    "h2o.cluster().shutdown(prompt=False)"
   ]
  },
  {
   "cell_type": "code",
   "execution_count": null,
   "metadata": {},
   "outputs": [],
   "source": []
  }
 ],
 "metadata": {
  "kernelspec": {
   "display_name": "Python 3",
   "language": "python",
   "name": "python3"
  },
  "language_info": {
   "codemirror_mode": {
    "name": "ipython",
    "version": 3
   },
   "file_extension": ".py",
   "mimetype": "text/x-python",
   "name": "python",
   "nbconvert_exporter": "python",
   "pygments_lexer": "ipython3",
   "version": "3.6.5"
  }
 },
 "nbformat": 4,
 "nbformat_minor": 2
}
